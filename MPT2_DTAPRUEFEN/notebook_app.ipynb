{
 "metadata": {
  "kernelspec": {
   "display_name": "Streamlit Notebook",
   "name": "streamlit"
  },
  "lastEditStatus": {
   "notebookId": "5xskbgr3mkahwif32c24",
   "authorId": "3676151304500",
   "authorName": "MBASUL250113",
   "authorEmail": "matthias.balzer@sulzer.de",
   "sessionId": "3988ed7f-b11c-48a1-99cf-6b1f03809304",
   "lastEditTime": 1737039235192
  }
 },
 "nbformat_minor": 5,
 "nbformat": 4,
 "cells": [
  {
   "cell_type": "markdown",
   "id": "cd33e02f-7cc7-4489-a43b-7806d2b49182",
   "metadata": {
    "name": "Beschreibung",
    "collapsed": false,
    "resultHeight": 41
   },
   "source": "Sichtung der daten in DATASET_TRAIN und DATASE_METROPT2."
  },
  {
   "cell_type": "code",
   "id": "f256b69d-ca1c-4e23-91e0-c5898efb8045",
   "metadata": {
    "language": "sql",
    "name": "Doppelte_Timestamps_in_TRAIN",
    "collapsed": true,
    "resultHeight": 111,
    "codeCollapsed": true
   },
   "outputs": [],
   "source": "select TIMESTAMP, count(*) from DMAS.METROPT2.DATASET_TRAIN group by TIMESTAMP having count(*) > 1",
   "execution_count": null
  },
  {
   "cell_type": "code",
   "id": "71df486a-8fb0-48b5-bbd6-ae2cc4e0d1cb",
   "metadata": {
    "language": "sql",
    "name": "Doppelte_Timestamps_in_MPT2",
    "collapsed": true,
    "resultHeight": 111,
    "codeCollapsed": true
   },
   "outputs": [],
   "source": "select TIMESTAMP, count(*) from DMAS.METROPT2.DATASET_METROPT2 group by TIMESTAMP having count(*) > 1",
   "execution_count": null
  },
  {
   "cell_type": "code",
   "id": "727a63c5-1b4a-4393-bd00-cdd7ab2991e5",
   "metadata": {
    "language": "sql",
    "name": "Common_Timestamps",
    "collapsed": false,
    "resultHeight": 181
   },
   "outputs": [],
   "source": "select case when t.TS is null then '---' else 'X' end as TRAIN, \n       case when m.TS is null then '---' else 'X' end as MPT2, count(*)\n    from (select TIMESTAMP as TS from DMAS.METROPT2.DATASET_TRAIN) t\n         full outer join\n         (select TIMESTAMP as TS from DMAS.METROPT2.DATASET_METROPT2) m\n             on (t.TS = m.TS)\n    group by TRAIN, MPT2\n    order by 1, 2\n;\n",
   "execution_count": null
  }
 ]
}
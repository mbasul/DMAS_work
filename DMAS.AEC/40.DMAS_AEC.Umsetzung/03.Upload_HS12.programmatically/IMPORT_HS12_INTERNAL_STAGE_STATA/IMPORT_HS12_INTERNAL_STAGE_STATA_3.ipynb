{
 "metadata": {
  "kernelspec": {
   "display_name": "Streamlit Notebook",
   "name": "streamlit"
  },
  "lastEditStatus": {
   "notebookId": "hy5hg5hilokqmepmyfb2",
   "authorId": "5390709648140",
   "authorName": "MBASUL250317",
   "authorEmail": "matthias.balzer@sulzer.de",
   "sessionId": "4e7c00bc-e487-4bba-9d6d-e7fb9e7f03ba",
   "lastEditTime": 1743437148352
  }
 },
 "nbformat_minor": 5,
 "nbformat": 4,
 "cells": [
  {
   "cell_type": "code",
   "id": "4391348b-5d93-4a1b-8c6a-f1d082f254fc",
   "metadata": {
    "language": "sql",
    "name": "cell17"
   },
   "outputs": [],
   "source": "use role sysadmin;",
   "execution_count": null
  },
  {
   "cell_type": "code",
   "id": "3775908f-ca36-4846-8f38-5adca39217f2",
   "metadata": {
    "language": "python",
    "name": "cell1"
   },
   "source": "import streamlit as st\nfrom snowflake.snowpark import Session\nsession = Session.builder.getOrCreate()",
   "execution_count": null,
   "outputs": []
  },
  {
   "cell_type": "code",
   "id": "a5bb6073-d796-4e8f-9da3-e6183516425a",
   "metadata": {
    "language": "python",
    "name": "cell2"
   },
   "outputs": [],
   "source": "from snowflake.snowpark import Session\nfrom snowflake.snowpark.functions import col\nimport snowflake.connector\nfrom snowflake.connector.cursor import SnowflakeCursor\nfrom snowflake.connector.converter import SnowflakeConverter\nfrom sqlalchemy import create_engine\nimport sqlalchemy\nimport pandas as pd\nimport logging\nimport re\nimport time",
   "execution_count": null
  },
  {
   "cell_type": "code",
   "id": "8d734f5b-1e87-4c23-afe7-950a6854f349",
   "metadata": {
    "language": "python",
    "name": "cell3"
   },
   "outputs": [],
   "source": "snowflake.connector.paramstyle = \"pyformat\"\nimport wheel_loader",
   "execution_count": null
  },
  {
   "cell_type": "code",
   "id": "6674af01-a9bf-4d3d-9f09-8ac7f3fcd4d6",
   "metadata": {
    "language": "python",
    "name": "cell4"
   },
   "outputs": [],
   "source": "from snowflake.snowpark._internal.utils import is_in_stored_procedure",
   "execution_count": null
  },
  {
   "cell_type": "code",
   "id": "cc730fa3-dc76-4ef1-a453-e2dbfe75b61e",
   "metadata": {
    "language": "python",
    "name": "cell5"
   },
   "outputs": [],
   "source": "def _process_params_dict(self, params, cursor):\n    try:\n        res = {k: self._process_single_param(v) for k, v in params.items()}\n        return res\n    except Exception as e:\n        raise Exception(\"Failed processing pyformat-parameters: {e}\")",
   "execution_count": null
  },
  {
   "cell_type": "code",
   "id": "d55da6cd-4dd6-4149-9521-a3aa555980b2",
   "metadata": {
    "language": "python",
    "name": "cell6"
   },
   "outputs": [],
   "source": "def _process_params_pyformat(self,params, cursor):\n        #todoremove print(\"----->\")\n        #todoremove print(params)\n        if params is None:\n            return {}\n        if isinstance(params, dict):\n            return self._process_params_dict(params,cursor)\n        if not isinstance(params, (tuple, list)):\n            params = [params,]\n        try:\n            res = map(self._process_single_param, params)\n            ret = tuple(res)\n            return ret\n        except Exception as e:\n            raise Exception(f\"Failed processing pyformat-parameters; {self}{params} {e}\")",
   "execution_count": null
  },
  {
   "cell_type": "code",
   "id": "c9488cfe-bdfa-464d-aa45-d4f393049ac9",
   "metadata": {
    "language": "python",
    "name": "cell7"
   },
   "outputs": [],
   "source": "def _process_single_param(self, param):\n        to_snowflake = self.converter.to_snowflake\n        escape = self.converter.escape\n        _quote = self.converter.quote\n        return _quote(escape(to_snowflake(param)))",
   "execution_count": null
  },
  {
   "cell_type": "code",
   "id": "06288ea4-b208-42b2-9df2-a96f336e4f03",
   "metadata": {
    "language": "python",
    "name": "cell8"
   },
   "outputs": [],
   "source": "def create_sqlalchemy_engine(session: Session):\n    import snowflake.connector.connection\n    from sqlalchemy.engine.url import URL\n    from sqlalchemy.engine.base import Connection\n    setattr(Connection,\"url\",URL.create(\"snowflake\"))\n    # patch this import\n    # patch missing method\n    if is_in_stored_procedure():\n        wheel_loader.add_wheels() # download wheel from pypi\n        snowflake.connector.connection.SnowflakeConnection = snowflake.connector.connection.StoredProcConnection\n        setattr(snowflake.connector.connection.StoredProcConnection,\"_process_params_pyformat\",_process_params_pyformat)\n        setattr(snowflake.connector.connection.StoredProcConnection,\"_process_params_dict\",_process_params_dict)\n        setattr(snowflake.connector.connection.StoredProcConnection,\"_process_single_param\",_process_single_param)\n\n    # Your existing Snowflake connection (replace with your actual connection)\n    existing_snowflake_connection = session._conn._conn\n    setattr(existing_snowflake_connection,\"_interpolate_empty_sequences\",False)\n    # sql alchemy needs pyformat binding\n    existing_snowflake_connection._paramstyle = \"pyformat\"\n    opts = \"\"\n    if session.get_current_warehouse() is not None:\n        opts += f\"&warehouse={session.get_current_warehouse()}\"\n    if session.get_current_role() is not None:\n        opts += f\"&role={session.get_current_role()}\"\n    conn_url = f\"snowflake://{session.get_current_user() or ''}@{session.get_current_account()}/{session.get_current_database() or ''}/{session.get_current_schema() or ''}?{opts}\"\n    # Create an engine and bind it to the existing Snowflake connection\n    engine = create_engine(\n        url=conn_url,\n        creator=lambda: existing_snowflake_connection\n    )\n    return engine",
   "execution_count": null
  },
  {
   "cell_type": "code",
   "id": "1a43591b-7b5b-4379-bbe1-6f11138b3d94",
   "metadata": {
    "language": "python",
    "name": "cell11"
   },
   "outputs": [],
   "source": "from sqlalchemy.dialects import registry\nregistry.register('snowflake', 'snowflake.sqlalchemy', 'dialect')",
   "execution_count": null
  },
  {
   "cell_type": "code",
   "id": "ac4c5efc-d18d-4d6b-b965-e6534b2a7f9c",
   "metadata": {
    "language": "python",
    "name": "cell10"
   },
   "outputs": [],
   "source": "import sqlalchemy\nsqlalchemy.__version__\nimport snowflake.sqlalchemy",
   "execution_count": null
  },
  {
   "cell_type": "code",
   "id": "7233bd48-fab3-494a-b6ce-5931b653a5c2",
   "metadata": {
    "language": "python",
    "name": "cell9"
   },
   "outputs": [],
   "source": "engine = create_sqlalchemy_engine(session)",
   "execution_count": null
  },
  {
   "cell_type": "code",
   "id": "f043bcb0-4c4a-4c2b-9c79-73a7b4f6c608",
   "metadata": {
    "language": "python",
    "name": "File_List"
   },
   "outputs": [],
   "source": "stage_path = '@DMAS.AOEC.AOEC_FILES_HS12/'\ninput_file_list = [\n'hs12_country_country_product_year_1.dta',\n'hs12_country_country_product_year_2.dta',\n'hs12_country_country_product_year_4_2012_2016.dta',\n'hs12_country_country_product_year_4_2017_2021.dta',\n'hs12_country_country_product_year_4_2022.dta',\n'hs12_country_country_product_year_6_2012_2016.dta',\n'hs12_country_country_product_year_6_2017_2021.dta',\n'hs12_country_country_product_year_6_2022.dta',\n'hs12_country_product_year_1.dta',\n'hs12_country_product_year_2.dta',\n'hs12_country_product_year_4.dta',\n'hs12_country_product_year_6.dta',\n]",
   "execution_count": null
  },
  {
   "cell_type": "code",
   "id": "ba4218bf-1a9c-4b89-8748-420960abf487",
   "metadata": {
    "language": "python",
    "name": "cell14"
   },
   "outputs": [],
   "source": "for file in input_file_list:\n    file_stage = file+'.gz'\n    prog = re.compile(r'^(.*)\\.dta')\n    file_base = prog.match(file).group(1)\n    table_name = 'raw_'+file_base\n    print('--- (Info):  {0:s}'.format(table_name), end='')\n\n    ts_A_secs = time.time()\n    ts_A_time = time.localtime(ts_A_secs)\n    session.file.get(stage_path+file_stage, 'TMP_STATA')\n    df = pd.read_stata('TMP_STATA/'+file_stage)\n    ts_B_secs = time.time()\n    ts_B_time = time.localtime(ts_B_secs)\n    with engine.begin() as tx:\n        try:\n            df.to_sql(table_name, engine, index = False, chunksize = 100000, if_exists = 'replace')\n        except:\n            print(\": Get:{0:02d}:{1:02d}:{2:02d} ({3:,d} sec)\".format(ts_A_time.tm_hour, ts_A_time.tm_min, ts_A_time.tm_sec, int(ts_B_secs - ts_A_secs)))\n            print(\"*** (Error): {0:s}\".format(repr(sys.exception())))\n            try:\n                tx.rollback()\n            except:\n                print(\"*** (Error): {0:s}\".format(repr(sys.exception())))\n                print(\"*** (Error): rollback failed.\")\n                raise\n                  \n    ts_C_secs = time.time()\n    ts_C_time = time.localtime(ts_C_secs)\n    print(' Get:  {0:02d}:{1:02d}:{2:02d} ({3:,d} sec)'.format(ts_A_time.tm_hour, ts_A_time.tm_min, ts_A_time.tm_sec, int(ts_B_secs - ts_A_secs)))\n    print('--- (Info):  {0:s} Load: {1:02d}:{2:02d}:{3:02d} ({4:,d} sec)'.format(table_name, ts_B_time.tm_hour, ts_B_time.tm_min, ts_B_time.tm_sec, int(ts_C_secs - ts_B_secs)))\n",
   "execution_count": null
  }
 ]
}
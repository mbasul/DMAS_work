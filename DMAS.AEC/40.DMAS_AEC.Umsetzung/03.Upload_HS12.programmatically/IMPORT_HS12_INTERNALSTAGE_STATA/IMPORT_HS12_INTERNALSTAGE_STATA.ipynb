{
 "metadata": {
  "kernelspec": {
   "display_name": "Streamlit Notebook",
   "name": "streamlit"
  },
  "lastEditStatus": {
   "notebookId": "g2lxvs4k4o4zvc7pwrht",
   "authorId": "5390709648140",
   "authorName": "MBASUL250317",
   "authorEmail": "matthias.balzer@sulzer.de",
   "sessionId": "16058278-1529-4ba4-a1f0-01f04a1bce99",
   "lastEditTime": 1742491602217
  }
 },
 "nbformat_minor": 5,
 "nbformat": 4,
 "cells": [
  {
   "cell_type": "code",
   "id": "3775908f-ca36-4846-8f38-5adca39217f2",
   "metadata": {
    "language": "python",
    "name": "Iports_Specials"
   },
   "source": "# Import python packages\nimport pandas as pd\n\n# We can also use Snowpark for our analyses!\nfrom snowflake.snowpark.context import get_active_session\nsession = get_active_session()\n\nimport sqlalchemy as sqac",
   "execution_count": null,
   "outputs": []
  },
  {
   "cell_type": "code",
   "id": "d2cc0ee3-c390-442d-8a64-1111b149bd55",
   "metadata": {
    "language": "python",
    "name": "Imports_generals"
   },
   "outputs": [],
   "source": "import sys\nimport os\nimport time\nimport re",
   "execution_count": null
  },
  {
   "cell_type": "code",
   "id": "f5661cfd-cf81-4884-a466-6c0dbb950435",
   "metadata": {
    "language": "python",
    "name": "Register_Base_of_Data"
   },
   "outputs": [],
   "source": "from sqlalchemy.dialects import registry\n\nregistry.register('snowflake', 'snowflake.sqlalchemy', 'dialect')\n",
   "execution_count": null
  },
  {
   "cell_type": "code",
   "id": "211229ee-fa25-4d74-8f03-e045dfc0e74d",
   "metadata": {
    "language": "python",
    "name": "cell5"
   },
   "outputs": [],
   "source": "from sqlalchemy import create_engine",
   "execution_count": null
  },
  {
   "cell_type": "code",
   "id": "0443cf79-226b-4a18-ad1a-58e3868c50cd",
   "metadata": {
    "language": "python",
    "name": "cell1"
   },
   "outputs": [],
   "source": "\nengine = create_engine(\n    'snowflake://{u}:{p}@{a}/{d}/{s}?warehouse={w}&role={r}'.format(\n        u='MBASUL250317',\n        p='gOkmN+6cF=6Yj5jeKRxtN',\n        a='APXGJLP-SB58316',\n        r='sysadmin',\n        d='DMAS',\n        s='AOEC',\n        w='COMPUTE_WH',\n    )\n)\n",
   "execution_count": null
  },
  {
   "cell_type": "code",
   "id": "7f8dc16f-1ec7-45b1-96c3-aa0a84a7454a",
   "metadata": {
    "language": "python",
    "name": "cell2"
   },
   "outputs": [],
   "source": "stage_path = '@DMAS.AOEC.AOEC_FILES_HS12/'",
   "execution_count": null
  },
  {
   "cell_type": "code",
   "id": "2b82594e-4d95-420a-982b-e4acd6fdf02d",
   "metadata": {
    "language": "python",
    "name": "cell3"
   },
   "outputs": [],
   "source": "input_file_list = [\n\t'hs12_country_country_product_year_4_2022.dta',\n\t'hs12_country_country_product_year_4_2017_2021.dta',\n\t'hs12_country_country_product_year_6_2012_2016.dta',\n\t'hs12_country_country_product_year_6_2017_2021.dta',\n\t'hs12_country_country_product_year_6_2022.dta'\n]\n",
   "execution_count": null
  },
  {
   "cell_type": "code",
   "id": "a897074d-f6f1-4155-9ec1-0c3bc0b503a2",
   "metadata": {
    "language": "python",
    "name": "cell6"
   },
   "outputs": [],
   "source": "session.file.get(stage_path+'hs12_country_country_product_year_4_2022.dta', 'TMP_STATA')",
   "execution_count": null
  },
  {
   "cell_type": "code",
   "id": "4bdac6b1-0ba2-476e-a994-2a28238549f4",
   "metadata": {
    "language": "python",
    "name": "cell7"
   },
   "outputs": [],
   "source": "os.listdir()",
   "execution_count": null
  },
  {
   "cell_type": "code",
   "id": "a7ce7132-d0e1-4622-a3e3-39c5a2bd6a2d",
   "metadata": {
    "language": "python",
    "name": "cell8"
   },
   "outputs": [],
   "source": "os.listdir('TMP_STATA')",
   "execution_count": null
  },
  {
   "cell_type": "code",
   "id": "25a98902-8c95-41b2-902f-f7baf9284dbd",
   "metadata": {
    "language": "python",
    "name": "cell9"
   },
   "outputs": [],
   "source": "df = pd.read_stata('TMP_STATA/hs12_country_country_product_year_4_2022.dta.gz')",
   "execution_count": null
  },
  {
   "cell_type": "code",
   "id": "79109352-d278-41fd-a1f8-a29cb3a3f422",
   "metadata": {
    "language": "python",
    "name": "cell10"
   },
   "outputs": [],
   "source": "with engine.begin():\n    df.to_sql(\"raw_hs12_country_country_product_year_4_2022\", engine, index = False, chunksize = 20000, if_exists = 'replace')",
   "execution_count": null
  }
 ]
}
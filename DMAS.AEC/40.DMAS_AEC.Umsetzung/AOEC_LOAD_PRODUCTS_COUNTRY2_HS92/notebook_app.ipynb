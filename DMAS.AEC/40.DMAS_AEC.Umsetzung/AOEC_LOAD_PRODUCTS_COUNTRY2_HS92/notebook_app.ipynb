{
 "metadata": {
  "kernelspec": {
   "display_name": "Streamlit Notebook",
   "name": "streamlit"
  },
  "lastEditStatus": {
   "notebookId": "syquskydhjgnpb3rbz4r",
   "authorId": "7530109391897",
   "authorName": "MBASUL250121",
   "authorEmail": "matthias.balzer@sulzer.de",
   "sessionId": "62b044f3-c9ee-43e1-a336-3174ec85f39c",
   "lastEditTime": 1738835887949
  }
 },
 "nbformat_minor": 5,
 "nbformat": 4,
 "cells": [
  {
   "cell_type": "code",
   "id": "3775908f-ca36-4846-8f38-5adca39217f2",
   "metadata": {
    "language": "python",
    "name": "Imports",
    "collapsed": false
   },
   "source": "# Import python packages\nimport streamlit as st\nimport pandas as pd\n\n# We can also use Snowpark for our analyses!\nfrom snowflake.snowpark.context import get_active_session\nsession = get_active_session()\nsession.query_tag = {\"origin\":\"sf_sit-is\", \n                     \"name\":\"load_aoec_products_country2\", \n                     \"version\":{\"major\":1, \"minor\":0},\n                     \"attributes\":{\"is_quickstart\":1, \"source\":\"notebook\", \"vignette\":\"csv_from_file\"}}\nprint(session)",
   "execution_count": null,
   "outputs": []
  },
  {
   "cell_type": "code",
   "id": "201dc43f-cece-4a53-bcfd-35454a2f06a9",
   "metadata": {
    "language": "sql",
    "name": "Chk_Env",
    "collapsed": false
   },
   "outputs": [],
   "source": "select current_user() as User, current_role() as Role, current_database() as DB, current_schema() as Schema;\n",
   "execution_count": null
  },
  {
   "cell_type": "code",
   "id": "1d52af7d-074c-45cb-919d-4ea194150c8d",
   "metadata": {
    "language": "sql",
    "name": "cell1",
    "collapsed": false
   },
   "outputs": [],
   "source": "show stages in account",
   "execution_count": null
  },
  {
   "cell_type": "code",
   "id": "64324c15-a7af-4e78-9137-fab2ab0ab8ae",
   "metadata": {
    "language": "sql",
    "name": "cell2",
    "collapsed": false
   },
   "outputs": [],
   "source": "list @DMAS.AOEC.AOEC_FILES_HS12",
   "execution_count": null
  },
  {
   "cell_type": "code",
   "id": "3e02d268-f018-47ae-b15c-88540e6a291d",
   "metadata": {
    "language": "python",
    "name": "Get_CSV_file",
    "collapsed": false
   },
   "outputs": [],
   "source": "df = session.read.options({\"skip_header\":1, \"compression\": \"gzip\"}).csv('@aoec_files_hs12/hs12_country_country_product_year_1.csv.gz')",
   "execution_count": null
  },
  {
   "cell_type": "code",
   "id": "5ec5e54e-1b0e-48ca-bf8f-dfc0de6af04a",
   "metadata": {
    "language": "python",
    "name": "cell3",
    "collapsed": false
   },
   "outputs": [],
   "source": "df.count()",
   "execution_count": null
  },
  {
   "cell_type": "code",
   "id": "78d9f29b-97e3-4bfd-93a9-2c1bbcfd14a8",
   "metadata": {
    "language": "python",
    "name": "cell4",
    "collapsed": false
   },
   "outputs": [],
   "source": "df",
   "execution_count": null
  }
 ]
}
{
 "metadata": {
  "kernelspec": {
   "display_name": "Streamlit Notebook",
   "name": "streamlit"
  },
  "lastEditStatus": {
   "notebookId": "4jk5oudfcpmq4fo3qchs",
   "authorId": "7530109391897",
   "authorName": "MBASUL250121",
   "authorEmail": "matthias.balzer@sulzer.de",
   "sessionId": "2f63c386-2b0a-4914-934f-bd7de4398518",
   "lastEditTime": 1738858098911
  }
 },
 "nbformat_minor": 5,
 "nbformat": 4,
 "cells": [
  {
   "cell_type": "markdown",
   "id": "39b538db-2c07-4513-83bb-5163645872ab",
   "metadata": {
    "name": "Intro",
    "collapsed": false
   },
   "source": "# Load All Stata Data Files form @AOEC_FILES_HS12 into Snowflake Database\n## Known Bugs\n(1) Set of SDtata files will not be determined by the content of @AEOC_FILES_HS12 but by a constant list."
  },
  {
   "cell_type": "code",
   "id": "3775908f-ca36-4846-8f38-5adca39217f2",
   "metadata": {
    "language": "python",
    "name": "Import_packages"
   },
   "source": "# Import python packages\nimport sys\nimport os\nimport snowflake.snowpark as snowpark\nfrom snowflake.snowpark.functions import col\nimport pandas as pd\n\n# We can also use Snowpark for our analyses!\nfrom snowflake.snowpark.context import get_active_session\nsession = get_active_session()\nsession.query_tag = {\"origin\":\"sf_sit-is\", \n                     \"name\":\"load_aoec_hs12_stata_data\", \n                     \"version\":{\"major\":1, \"minor\":0},\n                     \"attributes\":{\"is_quickstart\":1, \"source\":\"notebook\", \"vignette\":\"table_from_stata_file\"}}",
   "execution_count": null,
   "outputs": []
  },
  {
   "cell_type": "code",
   "id": "5d7867d0-99fa-4d99-8c15-b2510f217dc6",
   "metadata": {
    "language": "python",
    "name": "Files"
   },
   "outputs": [],
   "source": "objs = [\n    ('aoec_files_hs12/hs12_country_country_product_year_1.dta.gz',              'RAW_HS12_COUNTRY_COUNTRY_PRODUCT_YEAR_1'),\n    ('aoec_files_hs12/hs12_country_country_product_year_2.dta.gz',              'RAW_HS12_COUNTRY_COUNTRY_PRODUCT_YEAR_2'),\n    ('aoec_files_hs12/hs12_country_country_product_year_4_2012_2016.dta.gz',    'RAW_HS12_COUNTRY_COUNTRY_PRODUCT_YEAR_4_2012_2016'),\n    ('aoec_files_hs12/hs12_country_product_year_1.dta.gz',                      'RAW_HS12_COUNTRY_PRODUCT_YEAR_1'),\n    ('aoec_files_hs12/hs12_country_product_year_2.dta.gz',                      'RAW_HS12_COUNTRY_PRODUCT_YEAR_2'),\n    ('aoec_files_hs12/hs12_country_product_year_4.dta.gz',                      'RAW_HS12_COUNTRY_PRODUCT_YEAR_4'),\n    ('aoec_files_hs12/hs12_country_product_year_6.dta.gz',                      'RAW_HS12_COUNTRY_PRODUCT_YEAR_6')\n]\nfor (F, T) in objs:\n    print('Tab: '+T+',   File: '+F)",
   "execution_count": null
  },
  {
   "cell_type": "code",
   "id": "c6e548b3-b47a-4e18-ba9b-a2154b10a4ea",
   "metadata": {
    "language": "python",
    "name": "cell1"
   },
   "outputs": [],
   "source": "",
   "execution_count": null
  }
 ]
}
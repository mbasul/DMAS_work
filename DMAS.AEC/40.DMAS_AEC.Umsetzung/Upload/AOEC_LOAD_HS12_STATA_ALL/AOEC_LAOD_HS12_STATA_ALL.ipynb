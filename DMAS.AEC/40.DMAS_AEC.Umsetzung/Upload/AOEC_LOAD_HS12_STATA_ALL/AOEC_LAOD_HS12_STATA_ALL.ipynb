{
 "metadata": {
  "kernelspec": {
   "display_name": "Streamlit Notebook",
   "name": "streamlit"
  },
  "lastEditStatus": {
   "notebookId": "46pnxw7np74454xrqjow",
   "authorId": "7530109391897",
   "authorName": "MBASUL250121",
   "authorEmail": "matthias.balzer@sulzer.de",
   "sessionId": "2f63c386-2b0a-4914-934f-bd7de4398518",
   "lastEditTime": 1738857730334
  }
 },
 "nbformat_minor": 5,
 "nbformat": 4,
 "cells": [
  {
   "cell_type": "markdown",
   "id": "39b538db-2c07-4513-83bb-5163645872ab",
   "metadata": {
    "name": "cell4",
    "collapsed": false
   },
   "source": "# Load All Stata Data Files form @AOEC_FILES_HS12 into Snowflake Database\n## Known Bugs\n(1) Set of SDtata files will not be determined by the content of @AEOC_FILES_HS12 but by a constant list."
  },
  {
   "cell_type": "code",
   "id": "3775908f-ca36-4846-8f38-5adca39217f2",
   "metadata": {
    "language": "python",
    "name": "Import_packages"
   },
   "source": "# Import python packages\nimport sys\nimport os\nimport snowflake.snowpark as snowpark\nfrom snowflake.snowpark.functions import col\nimport pandas as pd\n\n# We can also use Snowpark for our analyses!\nfrom snowflake.snowpark.context import get_active_session\nsession = get_active_session()\n",
   "execution_count": null,
   "outputs": []
  }
 ]
}
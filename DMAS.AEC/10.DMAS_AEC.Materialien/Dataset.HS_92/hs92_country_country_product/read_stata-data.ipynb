{
 "cells": [
  {
   "cell_type": "markdown",
   "id": "4c0338c1-b417-4ae6-8bba-95b2c75555fd",
   "metadata": {},
   "source": [
    "Convert files in Stata binary format to CSV format\n",
    "Ref.:    https://stackoverflow.com/questions/2536047/convert-a-dta-file-to-csv-without-stata-software"
   ]
  },
  {
   "cell_type": "code",
   "execution_count": 1,
   "id": "07b01706-0c82-4b2a-841c-f856ea25e3a4",
   "metadata": {},
   "outputs": [],
   "source": [
    "import pandas as pd"
   ]
  },
  {
   "cell_type": "code",
   "execution_count": 4,
   "id": "45582ebc-97ad-4015-8e9c-255a9252fe24",
   "metadata": {},
   "outputs": [],
   "source": [
    "data = pd.read_stata('hs92_country_country_product_year_6_1995_1999.dta')"
   ]
  },
  {
   "cell_type": "code",
   "execution_count": 5,
   "id": "09c99082-ed38-495f-9f4a-94800875fca2",
   "metadata": {},
   "outputs": [],
   "source": [
    "data.to_csv('hs92_country_country_product_year_6_1995_1999.csv')"
   ]
  },
  {
   "cell_type": "code",
   "execution_count": null,
   "id": "2dae4f4d-7135-479d-aa51-dd2db892ebf2",
   "metadata": {},
   "outputs": [],
   "source": []
  }
 ],
 "metadata": {
  "kernelspec": {
   "display_name": "Python 3 (ipykernel)",
   "language": "python",
   "name": "python3"
  },
  "language_info": {
   "codemirror_mode": {
    "name": "ipython",
    "version": 3
   },
   "file_extension": ".py",
   "mimetype": "text/x-python",
   "name": "python",
   "nbconvert_exporter": "python",
   "pygments_lexer": "ipython3",
   "version": "3.12.7"
  }
 },
 "nbformat": 4,
 "nbformat_minor": 5
}

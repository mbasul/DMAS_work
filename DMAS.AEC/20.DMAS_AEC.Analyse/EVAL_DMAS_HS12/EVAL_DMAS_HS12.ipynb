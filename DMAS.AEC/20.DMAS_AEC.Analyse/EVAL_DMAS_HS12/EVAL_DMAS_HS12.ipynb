{
 "metadata": {
  "kernelspec": {
   "display_name": "Streamlit Notebook",
   "name": "streamlit"
  },
  "lastEditStatus": {
   "notebookId": "icua5yjzsnou4pmipi5l",
   "authorId": "8028549765831",
   "authorName": "MBASUL250206",
   "authorEmail": "matthias.balzer@sulzer.de",
   "sessionId": "c5ba1bb5-4fd7-4fc9-87ea-36efd4c825f6",
   "lastEditTime": 1741259088705
  }
 },
 "nbformat_minor": 5,
 "nbformat": 4,
 "cells": [
  {
   "cell_type": "markdown",
   "id": "520b2db6-7ee4-4f36-baad-6065c711270a",
   "metadata": {
    "name": "cell2",
    "collapsed": false
   },
   "source": "# Evaluation of HS12 Data"
  },
  {
   "cell_type": "code",
   "id": "ac9d6382-6c78-4918-8305-342e20b37efc",
   "metadata": {
    "language": "sql",
    "name": "cell3",
    "collapsed": false
   },
   "outputs": [],
   "source": "select GROUP_TYPE, count(*)\n    from LOCATION_GROUP\n    group by GROUP_TYPE\n    order by 1\n;",
   "execution_count": null
  },
  {
   "cell_type": "code",
   "id": "963b3a47-cde6-4eae-8638-d98046de3633",
   "metadata": {
    "language": "sql",
    "name": "cell1",
    "collapsed": false
   },
   "outputs": [],
   "source": "select x.GROUP_TYPE, count(*)\n    from LOCATION_GROUP_MEMBER x\n    group by GROUP_TYPE\n    order by 1\n;",
   "execution_count": null
  },
  {
   "cell_type": "code",
   "id": "87d55442-f65d-4475-bc6b-b037930e456b",
   "metadata": {
    "language": "sql",
    "name": "cell4"
   },
   "outputs": [],
   "source": "select x.GROUP_TYPE, x.GROUP_NAME, count(*)\n    from LOCATION_GROUP_MEMBER x\n    group by GROUP_TYPE, x.GROUP_NAME\n    order by 1, 2\n;",
   "execution_count": null
  },
  {
   "cell_type": "code",
   "id": "6ef60e5d-0c0d-467b-a7f7-1d0b83075d1f",
   "metadata": {
    "language": "sql",
    "name": "cell5"
   },
   "outputs": [],
   "source": "select x.*, y.ISO3_CODE, y.NAME_SHORT_EN\n    from LOCATION_GROUP_MEMBER x\n         left outer join\n         LOCATION_COUNTRY y\n             on (y.COUNTRY_ID = x.COUNTRY_ID)\n    where x.GROUP_TYPE ='continent'\n      and x.GROUP_NAME = 'Other'\n    order by y.ISO3_CODE\n;",
   "execution_count": null
  },
  {
   "cell_type": "code",
   "id": "7b229655-4b0a-4fcb-bad5-019dd10d2e39",
   "metadata": {
    "language": "sql",
    "name": "cell6",
    "collapsed": false
   },
   "outputs": [],
   "source": "select x.ISO3_CODE, x.NAME_SHORT_EN,\n       case when c.COUNTRY_ID is null then '---' else 'continent' end as Continent,\n       case when r.COUNTRY_ID is null then '---' else 'region' end as Region\n    from LOCATION_COUNTRY x\n         full outer join\n         (select COUNTRY_ID from LOCATION_GROUP_MEMBER where GROUP_TYPE ='continent') c\n             on (c.COUNTRY_ID = x.COUNTRY_ID)\n         full outer join\n         (select COUNTRY_ID from LOCATION_GROUP_MEMBER where GROUP_TYPE ='region') r\n             on (r.COUNTRY_ID = x.COUNTRY_ID)\n    where c.COUNTRY_ID is null\n       or r.COUNTRY_ID is null\n;",
   "execution_count": null
  }
 ]
}
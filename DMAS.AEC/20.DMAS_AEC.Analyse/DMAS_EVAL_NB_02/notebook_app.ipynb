{
 "metadata": {
  "kernelspec": {
   "display_name": "Streamlit Notebook",
   "name": "streamlit"
  },
  "lastEditStatus": {
   "notebookId": "g5eblzt3wpznjno7ogpr",
   "authorId": "7530109391897",
   "authorName": "MBASUL250121",
   "authorEmail": "matthias.balzer@sulzer.de",
   "sessionId": "0080e78f-dc7c-4192-b0d1-396102b75469",
   "lastEditTime": 1738087353011
  }
 },
 "nbformat_minor": 5,
 "nbformat": 4,
 "cells": [
  {
   "cell_type": "markdown",
   "id": "c756669a-f337-457f-a5d9-15ab99208df0",
   "metadata": {
    "name": "Intro",
    "collapsed": false
   },
   "source": "# Read file with STATA binary content from internal stage\nRef.: https://stackoverflow.com/questions/2536047/convert-a-dta-file-to-csv-without-stata-software"
  },
  {
   "cell_type": "code",
   "id": "3775908f-ca36-4846-8f38-5adca39217f2",
   "metadata": {
    "language": "python",
    "name": "Imports",
    "collapsed": false
   },
   "source": "# Import python packages\nimport pandas as pd\nimport modin.pandas as pd_modin\nimport snowflake.snowpark.modin.plugin",
   "execution_count": null,
   "outputs": []
  },
  {
   "cell_type": "code",
   "id": "38f6a1d8-b029-4268-8084-60a55b88a10e",
   "metadata": {
    "language": "python",
    "name": "Session"
   },
   "outputs": [],
   "source": "# We can also use Snowpark for our analyses!\nfrom snowflake.snowpark.context import get_active_session\nsession = get_active_session()\nsession.query_tag = {\"origin\": \"mba\",\n                     \"name\": \"dmas_eval_nb_02\",\n                     \"version\": {\"major\": 1, \"minor\": 0},\n                     \"attributes\": {\"is_quickstart\":1, \"source\":\"notebook\", \"vignette\":\"csv_from_stata\"}\n                    }\nprint(session)",
   "execution_count": null
  },
  {
   "cell_type": "code",
   "id": "cf9e45a3-c494-4e4a-8404-3c9f7be59041",
   "metadata": {
    "language": "python",
    "name": "cell1",
    "collapsed": false
   },
   "outputs": [],
   "source": "df_stata = pd.read_stata('@DMAS.AOEC.AOEC_FILES_HS92/hs92_country_country_product_year_1.dta.gz')",
   "execution_count": null
  }
 ]
}
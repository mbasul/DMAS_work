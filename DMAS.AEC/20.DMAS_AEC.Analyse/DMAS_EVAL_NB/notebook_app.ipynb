{
 "metadata": {
  "kernelspec": {
   "display_name": "Streamlit Notebook",
   "name": "streamlit"
  },
  "lastEditStatus": {
   "notebookId": "2n2hlvdskgpwrky4bplh",
   "authorId": "7530109391897",
   "authorName": "MBASUL250121",
   "authorEmail": "matthias.balzer@sulzer.de",
   "sessionId": "487eac6f-16ec-4216-81e8-b3d9f7bd3837",
   "lastEditTime": 1737648318809
  }
 },
 "nbformat_minor": 5,
 "nbformat": 4,
 "cells": [
  {
   "cell_type": "code",
   "id": "3775908f-ca36-4846-8f38-5adca39217f2",
   "metadata": {
    "language": "python",
    "name": "Imports",
    "collapsed": false
   },
   "source": "# Import python packages\nimport snowflake.snowpark as snowpark\nfrom snowflake.snowpark.types import StructType, StructField, IntegerType, StringType\nfrom snowflake.snowpark.context import get_active_session",
   "execution_count": null,
   "outputs": []
  },
  {
   "cell_type": "code",
   "id": "54be98d2-766f-4547-9f43-24c3d5521fd4",
   "metadata": {
    "language": "sql",
    "name": "cell2",
    "collapsed": false
   },
   "outputs": [],
   "source": "select current_user() as User, current_role() as Role, current_database() as DB, current_schema() as Schema",
   "execution_count": null
  },
  {
   "cell_type": "code",
   "id": "50e45705-b1a3-4e8b-bd32-af67ad51f9c8",
   "metadata": {
    "language": "sql",
    "name": "cell3",
    "collapsed": false
   },
   "outputs": [],
   "source": "list @DMAS.AOEC.AOEC_FILES_UPLOAD",
   "execution_count": null
  },
  {
   "cell_type": "code",
   "id": "f2451ec4-d695-4fe9-898c-7b8ced9f66ef",
   "metadata": {
    "language": "python",
    "name": "cell5",
    "collapsed": false
   },
   "outputs": [],
   "source": "csv_file_path = \"@DMAS.AOEC.AOEC_FILES_UPLOAD/aoec_files_upload/product_hs92.csv.gz\"",
   "execution_count": null
  },
  {
   "cell_type": "code",
   "id": "8c8ad4f0-e820-49a0-ac60-ec1c60e3d1f0",
   "metadata": {
    "language": "python",
    "name": "cell4",
    "collapsed": false
   },
   "outputs": [],
   "source": "schema = StructType([\n        StructField('product_id', IntegerType(), nullable=True),\n        StructField('code', StringType(), nullable=True),\n        StructField('name_short_en', StringType(), nullable=True),\n        StructField('product_level', IntegerType(), nullable=True),\n        StructField('top_parent_id', IntegerType(), nullable=True),\n        StructField('product_id_hierarchy', StringType(), nullable=True)\n    ])",
   "execution_count": null
  },
  {
   "cell_type": "code",
   "id": "18921603-a0e0-473b-bdf0-3360465af691",
   "metadata": {
    "language": "python",
    "name": "cell1",
    "collapsed": false
   },
   "outputs": [],
   "source": "session = get_active_session()",
   "execution_count": null
  },
  {
   "cell_type": "code",
   "id": "60f48723-1bea-41c2-ae34-56d96b3624bc",
   "metadata": {
    "language": "python",
    "name": "cell6",
    "collapsed": false
   },
   "outputs": [],
   "source": "df = session.read.options({\n        \"field_delimiter\": ',', \"field_optionally_enclosed_by\": '\"', \"skip_header\": 1\n    }).schema(schema).csv(csv_file_path)\ndf",
   "execution_count": null
  },
  {
   "cell_type": "code",
   "id": "b08d4133-46bb-4221-8e04-3ac304c89ad0",
   "metadata": {
    "language": "python",
    "name": "cell7",
    "collapsed": false
   },
   "outputs": [],
   "source": "data = df.collect()\nprint('#data-rows='+str(len(data)))\nn = 0\nfor row in data:\n    n += 1\n    print('Row'+str(n))",
   "execution_count": null
  },
  {
   "cell_type": "code",
   "id": "9bc0b5fd-399c-4231-aef0-962b3bab336b",
   "metadata": {
    "language": "python",
    "name": "cell8",
    "collapsed": false
   },
   "outputs": [],
   "source": "str(17)",
   "execution_count": null
  }
 ]
}
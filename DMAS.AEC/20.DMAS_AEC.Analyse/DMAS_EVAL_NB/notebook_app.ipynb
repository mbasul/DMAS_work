{
 "metadata": {
  "kernelspec": {
   "display_name": "Streamlit Notebook",
   "name": "streamlit"
  },
  "lastEditStatus": {
   "notebookId": "dm5dcrrundkskmhfx3ua",
   "authorId": "7530109391897",
   "authorName": "MBASUL250121",
   "authorEmail": "matthias.balzer@sulzer.de",
   "sessionId": "c197ee83-cb78-4aa1-b5ff-f36277b6619f",
   "lastEditTime": 1737643611052
  }
 },
 "nbformat_minor": 5,
 "nbformat": 4,
 "cells": [
  {
   "cell_type": "code",
   "id": "3775908f-ca36-4846-8f38-5adca39217f2",
   "metadata": {
    "language": "python",
    "name": "cell1"
   },
   "source": "# Import python packages\nimport streamlit as st\nimport pandas as pd\n\n# We can also use Snowpark for our analyses!\nfrom snowflake.snowpark.context import get_active_session\nsession = get_active_session()\n",
   "execution_count": null,
   "outputs": []
  }
 ]
}